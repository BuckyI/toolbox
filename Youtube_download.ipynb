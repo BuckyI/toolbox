{
 "cells": [
  {
   "cell_type": "code",
   "execution_count": null,
   "metadata": {},
   "outputs": [],
   "source": [
    "from pytube import YouTube\n",
    "import os\n",
    "import re\n",
    "\n",
    "os.environ[\"http_proxy\"] = \"127.0.0.1:2619\"\n",
    "os.environ[\"https_proxy\"] = \"127.0.0.1:2619\"\n",
    "\n",
    "def filename(stream):\n",
    "    return re.sub(r\"(.*?)\\.\", \"\\g<1> - YouTube.\", stream.default_filename)\n"
   ]
  },
  {
   "cell_type": "code",
   "execution_count": null,
   "metadata": {},
   "outputs": [],
   "source": [
    "url = 'https://www.youtube.com/watch?v=Hds5oK13ufk'\n",
    "video = YouTube(url)\n",
    "filename = video.title + \" YouTube\"\n",
    "\n",
    "for i in video.streams:\n",
    "    print(i)"
   ]
  },
  {
   "attachments": {},
   "cell_type": "markdown",
   "metadata": {},
   "source": [
    "下载视频：如果想要高画质，声音和画面分别下载然后合并。"
   ]
  },
  {
   "cell_type": "code",
   "execution_count": null,
   "metadata": {},
   "outputs": [],
   "source": [
    "stream = video.streams.get_highest_resolution()\n",
    "stream.download(filename=filename(stream))"
   ]
  },
  {
   "attachments": {},
   "cell_type": "markdown",
   "metadata": {},
   "source": [
    "下载音频"
   ]
  },
  {
   "cell_type": "code",
   "execution_count": null,
   "metadata": {},
   "outputs": [],
   "source": [
    "stream = video.streams.filter(only_audio=True).last()  # 最后一个是音质最好的\n",
    "stream.download(filename=filename(stream))"
   ]
  }
 ],
 "metadata": {
  "kernelspec": {
   "display_name": "Python 3",
   "language": "python",
   "name": "python3"
  },
  "language_info": {
   "codemirror_mode": {
    "name": "ipython",
    "version": 3
   },
   "file_extension": ".py",
   "mimetype": "text/x-python",
   "name": "python",
   "nbconvert_exporter": "python",
   "pygments_lexer": "ipython3",
   "version": "3.9.6"
  },
  "orig_nbformat": 4,
  "vscode": {
   "interpreter": {
    "hash": "9a7e53ad1711f20ee04ea26d7b9ae47707b1102cd59c6f02074fddb3d7505ef0"
   }
  }
 },
 "nbformat": 4,
 "nbformat_minor": 2
}
