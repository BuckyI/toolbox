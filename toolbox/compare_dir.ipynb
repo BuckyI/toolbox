{
 "cells": [
  {
   "attachments": {},
   "cell_type": "markdown",
   "metadata": {},
   "source": [
    "比较两个文件夹的不同 （这里主要是比较 Billfish 的修改）"
   ]
  },
  {
   "cell_type": "code",
   "execution_count": 8,
   "metadata": {},
   "outputs": [],
   "source": [
    "from file.scan_dir import scan_dir, compare_dir\n",
    "\n",
    "dir1 = r\"resources\"\n",
    "dir2 = r\"resources/showcase\"\n",
    "\n",
    "tree1 = scan_dir(dir1)\n",
    "tree2 = scan_dir(dir2)"
   ]
  },
  {
   "cell_type": "code",
   "execution_count": 10,
   "metadata": {},
   "outputs": [
    {
     "data": {
      "text/plain": [
       "{'root': 'resources'}"
      ]
     },
     "execution_count": 10,
     "metadata": {},
     "output_type": "execute_result"
    }
   ],
   "source": [
    "tree1"
   ]
  },
  {
   "attachments": {},
   "cell_type": "markdown",
   "metadata": {},
   "source": [
    "预处理"
   ]
  },
  {
   "cell_type": "code",
   "execution_count": 6,
   "metadata": {},
   "outputs": [],
   "source": [
    "root1 = tree1.pop('root')\n",
    "root2 = tree2.pop('root')\n",
    "\n",
    "# tree2 的文件以 lnk 结尾，删除以对比\n",
    "tree = tree2\n",
    "for i in tree:\n",
    "    if i == \"root\":\n",
    "        continue\n",
    "    tree[i]['filenames'] = [i.strip('.lnk') for i in tree[i]['filenames']]"
   ]
  },
  {
   "attachments": {},
   "cell_type": "markdown",
   "metadata": {},
   "source": [
    "以 tree1 为模板，比较 tree2 (默认 tree2 的文件夹结构与 tree1 相同，tree2 中部分文件删除)"
   ]
  },
  {
   "cell_type": "code",
   "execution_count": 7,
   "metadata": {},
   "outputs": [
    {
     "data": {
      "text/plain": [
       "{}"
      ]
     },
     "execution_count": 7,
     "metadata": {},
     "output_type": "execute_result"
    }
   ],
   "source": [
    "import os\n",
    "\n",
    "diffs = {}\n",
    "for i in tree1:\n",
    "    j = os.path.join(root2, os.path.relpath(i, root1)).strip(\".\").strip(\"\\\\\")\n",
    "    if j not in tree2:\n",
    "        print(i,j)\n",
    "        diffs[i] = False\n",
    "        continue\n",
    "    name1 = set(tree1[i]['filenames'])\n",
    "    name2 = set(tree2[j]['filenames'])\n",
    "    diff = name1 ^ name2\n",
    "    if diff:\n",
    "        diffs[i] = diff\n",
    "diffs\n"
   ]
  }
 ],
 "metadata": {
  "kernelspec": {
   "display_name": "Python 3",
   "language": "python",
   "name": "python3"
  },
  "language_info": {
   "codemirror_mode": {
    "name": "ipython",
    "version": 3
   },
   "file_extension": ".py",
   "mimetype": "text/x-python",
   "name": "python",
   "nbconvert_exporter": "python",
   "pygments_lexer": "ipython3",
   "version": "3.10.7"
  },
  "orig_nbformat": 4
 },
 "nbformat": 4,
 "nbformat_minor": 2
}
